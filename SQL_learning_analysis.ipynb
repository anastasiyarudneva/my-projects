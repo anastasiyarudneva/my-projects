{
 "cells": [
  {
   "cell_type": "code",
   "execution_count": 7,
   "metadata": {},
   "outputs": [],
   "source": [
    "import pandahouse as ph"
   ]
  },
  {
   "cell_type": "code",
   "execution_count": 8,
   "metadata": {},
   "outputs": [],
   "source": [
    "connection_default = {'host': 'http://clickhouse.beslan.pro:8080',\n",
    "                      'database': 'default',\n",
    "                      'user': 'student', \n",
    "                      'password': 'dpo_python_2020'}"
   ]
  },
  {
   "cell_type": "code",
   "execution_count": 9,
   "metadata": {},
   "outputs": [
    {
     "data": {
      "text/html": [
       "<div>\n",
       "<style scoped>\n",
       "    .dataframe tbody tr th:only-of-type {\n",
       "        vertical-align: middle;\n",
       "    }\n",
       "\n",
       "    .dataframe tbody tr th {\n",
       "        vertical-align: top;\n",
       "    }\n",
       "\n",
       "    .dataframe thead th {\n",
       "        text-align: right;\n",
       "    }\n",
       "</style>\n",
       "<table border=\"1\" class=\"dataframe\">\n",
       "  <thead>\n",
       "    <tr style=\"text-align: right;\">\n",
       "      <th></th>\n",
       "      <th>time</th>\n",
       "      <th>success_studs</th>\n",
       "    </tr>\n",
       "  </thead>\n",
       "  <tbody>\n",
       "    <tr>\n",
       "      <th>0</th>\n",
       "      <td>2021-10-01</td>\n",
       "      <td>136</td>\n",
       "    </tr>\n",
       "  </tbody>\n",
       "</table>\n",
       "</div>"
      ],
      "text/plain": [
       "        time  success_studs\n",
       "0 2021-10-01            136"
      ]
     },
     "execution_count": 9,
     "metadata": {},
     "output_type": "execute_result"
    }
   ],
   "source": [
    "query = \"\"\"\n",
    "SELECT \n",
    "    time,\n",
    "    COUNT() success_studs\n",
    "FROM(\n",
    "    SELECT \n",
    "        toStartOfMonth(toDateTime(timest)) as time,\n",
    "        st_id,\n",
    "        COUNT() as count_ex\n",
    "    FROM default.peas\n",
    "    WHERE correct == true\n",
    "    GROUP BY time, st_id\n",
    "    ORDER BY time DESC\n",
    "    ) as tab\n",
    "WHERE tab.count_ex >=20\n",
    "GROUP BY time\n",
    "\"\"\"\n",
    "success_studs = ph.read_clickhouse(query, connection=connection_default)\n",
    "success_studs"
   ]
  },
  {
   "cell_type": "code",
   "execution_count": 14,
   "metadata": {},
   "outputs": [
    {
     "data": {
      "text/html": [
       "<div>\n",
       "<style scoped>\n",
       "    .dataframe tbody tr th:only-of-type {\n",
       "        vertical-align: middle;\n",
       "    }\n",
       "\n",
       "    .dataframe tbody tr th {\n",
       "        vertical-align: top;\n",
       "    }\n",
       "\n",
       "    .dataframe thead th {\n",
       "        text-align: right;\n",
       "    }\n",
       "</style>\n",
       "<table border=\"1\" class=\"dataframe\">\n",
       "  <thead>\n",
       "    <tr style=\"text-align: right;\">\n",
       "      <th></th>\n",
       "      <th>group</th>\n",
       "      <th>cr</th>\n",
       "      <th>cr_active</th>\n",
       "      <th>cr_active_math</th>\n",
       "      <th>arpu</th>\n",
       "      <th>arpau</th>\n",
       "    </tr>\n",
       "  </thead>\n",
       "  <tbody>\n",
       "    <tr>\n",
       "      <th>0</th>\n",
       "      <td>control</td>\n",
       "      <td>0.049180</td>\n",
       "      <td>0.110236</td>\n",
       "      <td>0.102041</td>\n",
       "      <td>4540.983607</td>\n",
       "      <td>10393.700787</td>\n",
       "    </tr>\n",
       "    <tr>\n",
       "      <th>1</th>\n",
       "      <td>pilot</td>\n",
       "      <td>0.108475</td>\n",
       "      <td>0.260417</td>\n",
       "      <td>0.142857</td>\n",
       "      <td>11508.474576</td>\n",
       "      <td>29739.583333</td>\n",
       "    </tr>\n",
       "  </tbody>\n",
       "</table>\n",
       "</div>"
      ],
      "text/plain": [
       "     group        cr  cr_active  cr_active_math          arpu         arpau\n",
       "0  control  0.049180   0.110236        0.102041   4540.983607  10393.700787\n",
       "1    pilot  0.108475   0.260417        0.142857  11508.474576  29739.583333"
      ]
     },
     "execution_count": 14,
     "metadata": {},
     "output_type": "execute_result"
    }
   ],
   "source": [
    "query = \"\"\"\n",
    "WITH \n",
    "    payed_studs as\n",
    "    (SELECT \n",
    "        uniqExact(st_id) as payed_studs_count,\n",
    "        SUM(money) as money_sum,\n",
    "        test_grp \n",
    "    FROM default.final_project_check \n",
    "    JOIN default.studs \n",
    "    ON default.final_project_check.st_id == default.studs.st_id \n",
    "    GROUP BY test_grp\n",
    "    ),\n",
    "    \n",
    "    all_studs as \n",
    "    (SELECT \n",
    "        uniqExact(st_id) as all_studs_count, \n",
    "        test_grp \n",
    "    FROM default.studs\n",
    "    GROUP BY test_grp\n",
    "    ),\n",
    "    \n",
    "    active_studs_table as \n",
    "    (SELECT \n",
    "        st_id,\n",
    "        count(*) > 10 as active,\n",
    "        countIf(st_id, subject == 'Math') >= 2 as active_math,\n",
    "        min(default.studs.test_grp) as test_grp\n",
    "    FROM default.peas\n",
    "    LEFT JOIN default.studs \n",
    "    ON default.peas.st_id == default.studs.st_id\n",
    "    WHERE correct == 1 \n",
    "    GROUP BY st_id\n",
    "    ),\n",
    "    \n",
    "    active_studs as \n",
    "    (SELECT \n",
    "        test_grp,\n",
    "        SUM(active) as active_studs_count,\n",
    "        SUM(active_math) as active_math_studs_count\n",
    "    FROM active_studs_table\n",
    "    GROUP BY test_grp\n",
    "    ),\n",
    "    \n",
    "    payed_active_studs as\n",
    "    (SELECT\n",
    "        test_grp,\n",
    "        SUM(CASE WHEN active == 1 THEN money ELSE 0 end) as active_sum_money,\n",
    "        countIf(DISTINCT(active_studs_table.st_id), active == 1) as payed_active_studs_count,\n",
    "        countIf(DISTINCT(active_studs_table.st_id), active_math == 1) as payed_active_math_studs_count\n",
    "    FROM active_studs_table\n",
    "    INNER JOIN default.final_project_check\n",
    "    ON active_studs_table.st_id == default.final_project_check.st_id\n",
    "    GROUP BY test_grp\n",
    "    )\n",
    "\n",
    "SELECT \n",
    "    payed_studs.test_grp as group,\n",
    "    payed_studs_count / all_studs_count as cr,\n",
    "    payed_active_studs_count / active_studs_count as cr_active,\n",
    "    payed_active_math_studs_count / active_math_studs_count as cr_active_math,\n",
    "    cr * money_sum / payed_studs_count  as arpu,\n",
    "    cr_active * active_sum_money / payed_active_studs_count  as arpau\n",
    "    \n",
    "FROM payed_studs\n",
    "\n",
    "JOIN all_studs \n",
    "ON payed_studs.test_grp == all_studs.test_grp\n",
    "JOIN active_studs\n",
    "ON payed_studs.test_grp == active_studs.test_grp\n",
    "JOIN payed_active_studs\n",
    "ON payed_studs.test_grp == payed_active_studs.test_grp\n",
    "\"\"\"\n",
    "studs_metrics = ph.read_clickhouse(query, connection=connection_default)\n",
    "studs_metrics"
   ]
  },
  {
   "attachments": {},
   "cell_type": "markdown",
   "metadata": {},
   "source": [
    "По результатам А/B теста все основные метрики в тестовой группе имеют показатели выше аналогичных в контрольной группе."
   ]
  },
  {
   "cell_type": "code",
   "execution_count": null,
   "metadata": {},
   "outputs": [],
   "source": []
  }
 ],
 "metadata": {
  "kernelspec": {
   "display_name": "Python 3.9.12 ('base')",
   "language": "python",
   "name": "python3"
  },
  "language_info": {
   "codemirror_mode": {
    "name": "ipython",
    "version": 3
   },
   "file_extension": ".py",
   "mimetype": "text/x-python",
   "name": "python",
   "nbconvert_exporter": "python",
   "pygments_lexer": "ipython3",
   "version": "3.9.12"
  },
  "orig_nbformat": 4,
  "vscode": {
   "interpreter": {
    "hash": "6d02f69d2b3c83275203cfd7bb3d4394ff4aa9be36f255ee8d365721c78e6ea1"
   }
  }
 },
 "nbformat": 4,
 "nbformat_minor": 2
}
